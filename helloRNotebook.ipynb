{
 "cells": [
  {
   "cell_type": "code",
   "execution_count": 2,
   "metadata": {
    "collapsed": true
   },
   "outputs": [],
   "source": [
    "library(\"MASS\")"
   ]
  },
  {
   "cell_type": "code",
   "execution_count": 3,
   "metadata": {
    "collapsed": false
   },
   "outputs": [
    {
     "data": {
      "text/html": [
       "<table>\n",
       "<thead><tr><th scope=col>state</th><th scope=col>sex</th><th scope=col>diag</th><th scope=col>death</th><th scope=col>status</th><th scope=col>T.categ</th><th scope=col>age</th></tr></thead>\n",
       "<tbody>\n",
       "\t<tr><td>NSW  </td><td>M    </td><td>10905</td><td>11081</td><td>D    </td><td>hs   </td><td>35   </td></tr>\n",
       "\t<tr><td>NSW  </td><td>M    </td><td>11029</td><td>11096</td><td>D    </td><td>hs   </td><td>53   </td></tr>\n",
       "\t<tr><td>NSW  </td><td>M    </td><td> 9551</td><td> 9983</td><td>D    </td><td>hs   </td><td>42   </td></tr>\n",
       "\t<tr><td>NSW  </td><td>M    </td><td> 9577</td><td> 9654</td><td>D    </td><td>haem </td><td>44   </td></tr>\n",
       "\t<tr><td>NSW  </td><td>M    </td><td>10015</td><td>10290</td><td>D    </td><td>hs   </td><td>39   </td></tr>\n",
       "\t<tr><td>NSW  </td><td>M    </td><td> 9971</td><td>10344</td><td>D    </td><td>hs   </td><td>36   </td></tr>\n",
       "</tbody>\n",
       "</table>\n"
      ],
      "text/latex": [
       "\\begin{tabular}{r|lllllll}\n",
       " state & sex & diag & death & status & T.categ & age\\\\\n",
       "\\hline\n",
       "\t NSW   & M     & 10905 & 11081 & D     & hs    & 35   \\\\\n",
       "\t NSW   & M     & 11029 & 11096 & D     & hs    & 53   \\\\\n",
       "\t NSW   & M     &  9551 &  9983 & D     & hs    & 42   \\\\\n",
       "\t NSW   & M     &  9577 &  9654 & D     & haem  & 44   \\\\\n",
       "\t NSW   & M     & 10015 & 10290 & D     & hs    & 39   \\\\\n",
       "\t NSW   & M     &  9971 & 10344 & D     & hs    & 36   \\\\\n",
       "\\end{tabular}\n"
      ],
      "text/plain": [
       "  state sex diag  death status T.categ age\n",
       "1 NSW   M   10905 11081 D      hs      35 \n",
       "2 NSW   M   11029 11096 D      hs      53 \n",
       "3 NSW   M    9551  9983 D      hs      42 \n",
       "4 NSW   M    9577  9654 D      haem    44 \n",
       "5 NSW   M   10015 10290 D      hs      39 \n",
       "6 NSW   M    9971 10344 D      hs      36 "
      ]
     },
     "metadata": {},
     "output_type": "display_data"
    }
   ],
   "source": [
    "head(Aids2)"
   ]
  },
  {
   "cell_type": "code",
   "execution_count": null,
   "metadata": {
    "collapsed": true
   },
   "outputs": [],
   "source": []
  }
 ],
 "metadata": {
  "kernelspec": {
   "display_name": "R",
   "language": "R",
   "name": "ir"
  },
  "language_info": {
   "codemirror_mode": "r",
   "file_extension": ".r",
   "mimetype": "text/x-r-source",
   "name": "R",
   "pygments_lexer": "r",
   "version": "3.3.1"
  }
 },
 "nbformat": 4,
 "nbformat_minor": 1
}
